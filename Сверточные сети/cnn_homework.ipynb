{
 "cells": [
  {
   "cell_type": "code",
   "execution_count": 1,
   "metadata": {},
   "outputs": [],
   "source": [
    "%matplotlib inline\n",
    "\n",
    "import matplotlib.pyplot as plt\n",
    "import torch\n",
    "import torchvision as tv\n",
    "from torchmetrics import Accuracy\n",
    "import numpy as np\n",
    "import pandas as pd\n",
    "import time"
   ]
  },
  {
   "cell_type": "markdown",
   "metadata": {},
   "source": [
    "## CNN"
   ]
  },
  {
   "cell_type": "markdown",
   "metadata": {},
   "source": [
    "### Загрузка данных"
   ]
  },
  {
   "cell_type": "code",
   "execution_count": 2,
   "metadata": {},
   "outputs": [],
   "source": [
    "BATCH_SIZE = 256"
   ]
  },
  {
   "cell_type": "code",
   "execution_count": 3,
   "metadata": {},
   "outputs": [],
   "source": [
    "train_mnist = tv.datasets.MNIST(\n",
    "    '.',\n",
    "    train=True,\n",
    "    transform=tv.transforms.ToTensor(),\n",
    "    download=True\n",
    ")\n",
    "\n",
    "test_mnist = tv.datasets.MNIST(\n",
    "    '.',\n",
    "    train=False,\n",
    "    transform=tv.transforms.ToTensor(),\n",
    "    download=True\n",
    ")"
   ]
  },
  {
   "cell_type": "code",
   "execution_count": 4,
   "metadata": {},
   "outputs": [],
   "source": [
    "train = torch.utils.data.DataLoader(train_mnist, batch_size=BATCH_SIZE)\n",
    "test = torch.utils.data.DataLoader(test_mnist, batch_size=BATCH_SIZE)"
   ]
  },
  {
   "cell_type": "code",
   "execution_count": 5,
   "metadata": {},
   "outputs": [
    {
     "data": {
      "text/plain": [
       "torch.Size([1, 28, 28])"
      ]
     },
     "execution_count": 5,
     "metadata": {},
     "output_type": "execute_result"
    }
   ],
   "source": [
    "train_mnist[0][0].shape"
   ]
  },
  {
   "cell_type": "code",
   "execution_count": 6,
   "metadata": {},
   "outputs": [
    {
     "data": {
      "text/plain": [
       "torch.Size([1, 28, 28])"
      ]
     },
     "execution_count": 6,
     "metadata": {},
     "output_type": "execute_result"
    }
   ],
   "source": [
    "test_mnist[0][0].shape"
   ]
  },
  {
   "cell_type": "markdown",
   "metadata": {},
   "source": [
    "### Построение модели CNN"
   ]
  },
  {
   "cell_type": "code",
   "execution_count": 7,
   "metadata": {},
   "outputs": [],
   "source": [
    "\n",
    "class CNN(torch.nn.Module):\n",
    "    def __init__(self):\n",
    "        super(CNN, self).__init__()\n",
    "        self.feature_extractor = torch.nn.Sequential(\n",
    "            torch.nn.Conv2d(1, 32, kernel_size=3, padding=1),\n",
    "            torch.nn.BatchNorm2d(32),\n",
    "            torch.nn.ReLU(),\n",
    "            torch.nn.MaxPool2d(2),\n",
    "            \n",
    "            torch.nn.Conv2d(32, 64, kernel_size=3, padding=1),\n",
    "            torch.nn.BatchNorm2d(64),\n",
    "            torch.nn.ReLU(),\n",
    "            torch.nn.MaxPool2d(2)\n",
    "        )\n",
    "        \n",
    "        self.classifier = torch.nn.Sequential(\n",
    "            torch.nn.Linear(64 * 7 * 7, 128),\n",
    "            torch.nn.Dropout(0.5),\n",
    "            torch.nn.ReLU(),\n",
    "            torch.nn.Linear(128, 10)\n",
    "        )\n",
    "        \n",
    "    def forward(self, x):\n",
    "        x = self.feature_extractor(x)\n",
    "        x = x.view(x.size(0), -1)  \n",
    "        x = self.classifier(x)\n",
    "        return x"
   ]
  },
  {
   "cell_type": "code",
   "execution_count": 8,
   "metadata": {},
   "outputs": [
    {
     "name": "stdout",
     "output_type": "stream",
     "text": [
      "Использую cuda-устройство\n",
      "\n",
      "CNN(\n",
      "  (feature_extractor): Sequential(\n",
      "    (0): Conv2d(1, 32, kernel_size=(3, 3), stride=(1, 1), padding=(1, 1))\n",
      "    (1): BatchNorm2d(32, eps=1e-05, momentum=0.1, affine=True, track_running_stats=True)\n",
      "    (2): ReLU()\n",
      "    (3): MaxPool2d(kernel_size=2, stride=2, padding=0, dilation=1, ceil_mode=False)\n",
      "    (4): Conv2d(32, 64, kernel_size=(3, 3), stride=(1, 1), padding=(1, 1))\n",
      "    (5): BatchNorm2d(64, eps=1e-05, momentum=0.1, affine=True, track_running_stats=True)\n",
      "    (6): ReLU()\n",
      "    (7): MaxPool2d(kernel_size=2, stride=2, padding=0, dilation=1, ceil_mode=False)\n",
      "  )\n",
      "  (classifier): Sequential(\n",
      "    (0): Linear(in_features=3136, out_features=128, bias=True)\n",
      "    (1): Dropout(p=0.5, inplace=False)\n",
      "    (2): ReLU()\n",
      "    (3): Linear(in_features=128, out_features=10, bias=True)\n",
      "  )\n",
      ")\n"
     ]
    }
   ],
   "source": [
    "device = \"cuda\" if torch.cuda.is_available() else \"cpu\"\n",
    "#device = \"cpu\"\n",
    "print(f\"Использую {device}-устройство\\n\")\n",
    "\n",
    "model = CNN().to(device)\n",
    "print(model)"
   ]
  },
  {
   "cell_type": "code",
   "execution_count": 9,
   "metadata": {},
   "outputs": [],
   "source": [
    "learning_rate = 1e-3\n",
    "num_epochs = 10\n",
    "\n",
    "loss = torch.nn.CrossEntropyLoss()\n",
    "optimizer = torch.optim.Adam(model.parameters(), lr=learning_rate)"
   ]
  },
  {
   "cell_type": "markdown",
   "metadata": {},
   "source": [
    "### Обучение модели"
   ]
  },
  {
   "cell_type": "code",
   "execution_count": 10,
   "metadata": {},
   "outputs": [],
   "source": [
    "def train_model(model_cnn):\n",
    "    train_accuracy = Accuracy(task='multiclass', num_classes=10).to(device)\n",
    "    test_accuracy = Accuracy(task='multiclass', num_classes=10).to(device)\n",
    "\n",
    "    for epoch in range(num_epochs):\n",
    "        start = time.time()\n",
    "        \n",
    "        train_loss = .0 \n",
    "        train_iters = 0\n",
    "        model_cnn.train()\n",
    "        for X, y in train:\n",
    "            X, y = X.to(device), y.to(device)\n",
    "            y_pred = model_cnn(X)\n",
    "\n",
    "            optimizer.zero_grad()\n",
    "            l = loss(y_pred, y)\n",
    "            l.backward()\n",
    "            optimizer.step()\n",
    "\n",
    "            train_loss += l.item()\n",
    "            train_iters += 1\n",
    "            train_accuracy.update(y_pred, y)\n",
    "        train_acc_out = train_accuracy.compute()\n",
    "        train_accuracy.reset()\n",
    "\n",
    "        test_loss = .0\n",
    "        test_iters = 0\n",
    "        model_cnn.eval()\n",
    "        for X, y in test:\n",
    "            X, y = X.to(device), y.to(device)\n",
    "            y_pred = model_cnn(X)\n",
    "\n",
    "            l = loss(y_pred, y)\n",
    "\n",
    "            test_loss += l.item()\n",
    "            test_iters += 1\n",
    "            test_accuracy.update(y_pred, y)\n",
    "        test_acc_out = test_accuracy.compute()\n",
    "        test_accuracy.reset()\n",
    "\n",
    "        print(f\"ep: {epoch+1} | time: {time.time()-start:.2f} сек | train_loss: {train_loss/train_iters:.2f} | train_acc: {train_acc_out*100:.2f}%\" \n",
    "              f\" | test_loss: {test_loss/test_iters:.2f} | test_acc: {test_acc_out*100:.2f}%\")\n"
   ]
  },
  {
   "cell_type": "code",
   "execution_count": 11,
   "metadata": {},
   "outputs": [
    {
     "name": "stdout",
     "output_type": "stream",
     "text": [
      "ep: 1 | time: 4.44 сек | train_loss: 0.28 | train_acc: 91.24% | test_loss: 0.06 | test_acc: 98.16%\n",
      "ep: 2 | time: 4.33 сек | train_loss: 0.10 | train_acc: 97.07% | test_loss: 0.04 | test_acc: 98.79%\n",
      "ep: 3 | time: 4.76 сек | train_loss: 0.08 | train_acc: 97.81% | test_loss: 0.04 | test_acc: 98.74%\n",
      "ep: 4 | time: 4.70 сек | train_loss: 0.07 | train_acc: 97.96% | test_loss: 0.03 | test_acc: 98.79%\n",
      "ep: 5 | time: 4.89 сек | train_loss: 0.06 | train_acc: 98.25% | test_loss: 0.03 | test_acc: 98.76%\n",
      "ep: 6 | time: 4.97 сек | train_loss: 0.05 | train_acc: 98.49% | test_loss: 0.03 | test_acc: 98.88%\n",
      "ep: 7 | time: 4.79 сек | train_loss: 0.05 | train_acc: 98.60% | test_loss: 0.03 | test_acc: 99.12%\n",
      "ep: 8 | time: 5.01 сек | train_loss: 0.04 | train_acc: 98.73% | test_loss: 0.03 | test_acc: 99.06%\n",
      "ep: 9 | time: 4.86 сек | train_loss: 0.04 | train_acc: 98.77% | test_loss: 0.03 | test_acc: 99.07%\n",
      "ep: 10 | time: 4.93 сек | train_loss: 0.04 | train_acc: 98.85% | test_loss: 0.03 | test_acc: 99.07%\n"
     ]
    }
   ],
   "source": [
    "train_model(model)"
   ]
  }
 ],
 "metadata": {
  "kernelspec": {
   "display_name": "mult_nn_net",
   "language": "python",
   "name": "python3"
  },
  "language_info": {
   "codemirror_mode": {
    "name": "ipython",
    "version": 3
   },
   "file_extension": ".py",
   "mimetype": "text/x-python",
   "name": "python",
   "nbconvert_exporter": "python",
   "pygments_lexer": "ipython3",
   "version": "3.12.7"
  }
 },
 "nbformat": 4,
 "nbformat_minor": 2
}
