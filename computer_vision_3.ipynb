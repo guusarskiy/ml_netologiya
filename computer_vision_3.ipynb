{
 "cells": [
  {
   "cell_type": "code",
   "execution_count": 1,
   "metadata": {},
   "outputs": [],
   "source": [
    "import torch\n",
    "import torch.nn as nn\n",
    "import torch.nn.functional as F\n",
    "from torchvision import datasets, transforms\n",
    "import torch.optim as optim\n",
    "import matplotlib.pyplot as plt\n",
    "import numpy as np\n",
    "from tqdm import tqdm"
   ]
  },
  {
   "cell_type": "code",
   "execution_count": 2,
   "metadata": {},
   "outputs": [],
   "source": [
    "class LeNet(nn.Module):\n",
    "    def __init__(self):\n",
    "        super(LeNet, self).__init__()\n",
    "        self.conv1 = nn.Conv2d(1, 6, kernel_size=5)\n",
    "        self.pool = nn.AvgPool2d(2,2)  \n",
    "        self.conv2 = nn.Conv2d(6, 16, kernel_size=5)\n",
    "        self.fc1 = nn.Linear(16*4*4, 120)\n",
    "        self.fc2 = nn.Linear(120, 84)\n",
    "        self.fc3 = nn.Linear(84, 10)\n",
    "        \n",
    "    def forward(self, x):\n",
    "        x = F.relu(self.conv1(x))      \n",
    "        x = self.pool(x)               \n",
    "        x = F.relu(self.conv2(x))      \n",
    "        x = self.pool(x)               \n",
    "        x = x.view(-1, 16*4*4)         \n",
    "        x = F.relu(self.fc1(x))\n",
    "        x = F.relu(self.fc2(x))\n",
    "        x = self.fc3(x)\n",
    "        return x"
   ]
  },
  {
   "cell_type": "code",
   "execution_count": 3,
   "metadata": {},
   "outputs": [
    {
     "name": "stderr",
     "output_type": "stream",
     "text": [
      "Epoch 1/3: 100%|██████████| 938/938 [00:04<00:00, 207.60it/s]\n"
     ]
    },
    {
     "name": "stdout",
     "output_type": "stream",
     "text": [
      "Epoch 1: Loss = 0.6260\n"
     ]
    },
    {
     "name": "stderr",
     "output_type": "stream",
     "text": [
      "Epoch 2/3: 100%|██████████| 938/938 [00:04<00:00, 227.93it/s]\n"
     ]
    },
    {
     "name": "stdout",
     "output_type": "stream",
     "text": [
      "Epoch 2: Loss = 0.1227\n"
     ]
    },
    {
     "name": "stderr",
     "output_type": "stream",
     "text": [
      "Epoch 3/3: 100%|██████████| 938/938 [00:04<00:00, 224.89it/s]\n"
     ]
    },
    {
     "name": "stdout",
     "output_type": "stream",
     "text": [
      "Epoch 3: Loss = 0.0838\n",
      "Test Accuracy: 97.18%\n"
     ]
    }
   ],
   "source": [
    "device = torch.device(\"cuda\" if torch.cuda.is_available() else \"cpu\")\n",
    "model = LeNet().to(device)\n",
    "\n",
    "batch_size = 64\n",
    "transform = transforms.Compose([transforms.ToTensor()])\n",
    "train_dataset = datasets.MNIST(root='./data', train=True, download=True, transform=transform)\n",
    "test_dataset  = datasets.MNIST(root='./data', train=False, download=True, transform=transform)\n",
    "\n",
    "train_loader = torch.utils.data.DataLoader(train_dataset, batch_size=batch_size, shuffle=True)\n",
    "test_loader  = torch.utils.data.DataLoader(test_dataset,  batch_size=batch_size, shuffle=False)\n",
    "\n",
    "criterion = nn.CrossEntropyLoss()\n",
    "optimizer = optim.SGD(model.parameters(), lr=0.01, momentum=0.9)\n",
    "\n",
    "num_epochs = 3 \n",
    "model.train()\n",
    "for epoch in range(num_epochs):\n",
    "    running_loss = 0.0\n",
    "    for images, labels in tqdm(train_loader, desc=f\"Epoch {epoch+1}/{num_epochs}\"):\n",
    "        images, labels = images.to(device), labels.to(device)\n",
    "        \n",
    "        optimizer.zero_grad()\n",
    "        outputs = model(images)\n",
    "        loss = criterion(outputs, labels)\n",
    "        loss.backward()\n",
    "        optimizer.step()\n",
    "        \n",
    "        running_loss += loss.item()\n",
    "    \n",
    "    avg_loss = running_loss / len(train_loader)\n",
    "    print(f\"Epoch {epoch+1}: Loss = {avg_loss:.4f}\")\n",
    "\n",
    "model.eval()\n",
    "correct = 0\n",
    "total = 0\n",
    "with torch.no_grad():\n",
    "    for images, labels in test_loader:\n",
    "        images, labels = images.to(device), labels.to(device)\n",
    "        out = model(images)\n",
    "        _, preds = torch.max(out, dim=1)\n",
    "        correct += (preds == labels).sum().item()\n",
    "        total   += labels.size(0)\n",
    "\n",
    "accuracy = 100.0 * correct / total\n",
    "print(f\"Test Accuracy: {accuracy:.2f}%\")"
   ]
  },
  {
   "cell_type": "code",
   "execution_count": 4,
   "metadata": {},
   "outputs": [
    {
     "name": "stdout",
     "output_type": "stream",
     "text": [
      "Изначальный класс: 7\n",
      "Целевой класс: 8\n",
      "Step 5/30, Loss = 3.8861\n",
      "Step 10/30, Loss = 0.5749\n",
      "Step 15/30, Loss = 0.2628\n",
      "Step 20/30, Loss = 0.1722\n",
      "Step 25/30, Loss = 0.1164\n",
      "Step 30/30, Loss = 0.0854\n"
     ]
    }
   ],
   "source": [
    "test_images, test_labels = next(iter(test_loader))\n",
    "test_image = test_images[0].unsqueeze(0).to(device)  \n",
    "true_label = test_labels[0].item()\n",
    "print(\"Изначальный класс:\", true_label)\n",
    "\n",
    "noise = torch.zeros_like(test_image, requires_grad=True) \n",
    "\n",
    "target_class = (true_label + 1) % 10\n",
    "print(\"Целевой класс:\", target_class)\n",
    "\n",
    "learning_rate = 0.1\n",
    "steps = 30  \n",
    "noise_optimizer = optim.SGD([noise], lr=learning_rate)\n",
    "\n",
    "model.eval()\n",
    "\n",
    "for step in range(steps):\n",
    "    noise_optimizer.zero_grad()\n",
    "    \n",
    "    adv_image = test_image + noise\n",
    "    \n",
    "    adv_image = torch.clamp(adv_image, 0, 1)\n",
    "    \n",
    "    out = model(adv_image)\n",
    "    \n",
    "    target_tensor = torch.tensor([target_class], device=device)\n",
    "    loss = F.cross_entropy(out, target_tensor)\n",
    "    \n",
    "    loss.backward()\n",
    "    noise_optimizer.step()\n",
    "    \n",
    "    if (step+1) % 5 == 0:\n",
    "        print(f\"Step {step+1}/{steps}, Loss = {loss.item():.4f}\")\n",
    "\n",
    "with torch.no_grad():\n",
    "    adv_image = torch.clamp(test_image + noise, 0, 1)"
   ]
  },
  {
   "cell_type": "code",
   "execution_count": 7,
   "metadata": {},
   "outputs": [
    {
     "name": "stdout",
     "output_type": "stream",
     "text": [
      "Исходная метка: 7, Предсказание на зашумленном изображении: 8 (Целевой класс: 8)\n"
     ]
    },
    {
     "data": {
      "image/png": "[encoded data removed]",
      "text/plain": [
       "<Figure size 1200x400 with 3 Axes>"
      ]
     },
     "metadata": {},
     "output_type": "display_data"
    }
   ],
   "source": [
    "with torch.no_grad():\n",
    "    out_final = model(adv_image)\n",
    "    pred_label = torch.argmax(out_final, dim=1).item()\n",
    "\n",
    "print(f\"Исходная метка: {true_label}, Предсказание на зашумленном изображении: {pred_label} (Целевой класс: {target_class})\")\n",
    "\n",
    "orig_img = test_image.squeeze().cpu().numpy()\n",
    "noise_img = noise.squeeze().detach().cpu().numpy()\n",
    "adv_img   = adv_image.squeeze().cpu().numpy()\n",
    "\n",
    "diff = adv_img - orig_img\n",
    "\n",
    "import matplotlib.pyplot as plt\n",
    "\n",
    "plt.figure(figsize=(12,4))\n",
    "\n",
    "plt.subplot(1, 3, 1)\n",
    "plt.imshow(orig_img, cmap='gray')\n",
    "plt.title(f\"Исходное изображение\\n(Метка: {true_label})\", fontsize=12)\n",
    "plt.axis('off')\n",
    "\n",
    "plt.subplot(1, 3, 2)\n",
    "plt.imshow(adv_img, cmap='gray')\n",
    "plt.title(f\"Зашумлённое изображение\\n(Предсказание: {pred_label})\", fontsize=12)\n",
    "plt.axis('off')\n",
    "\n",
    "plt.subplot(1, 3, 3)\n",
    "plt.imshow(diff, cmap='gray')\n",
    "plt.title(\"Адверсариальный шум\", fontsize=12)\n",
    "plt.axis('off')\n",
    "\n",
    "plt.tight_layout()\n",
    "plt.show()"
   ]
  }
 ],
 "metadata": {
  "kernelspec": {
   "display_name": "netol_comp_vis_11",
   "language": "python",
   "name": "python3"
  },
  "language_info": {
   "codemirror_mode": {
    "name": "ipython",
    "version": 3
   },
   "file_extension": ".py",
   "mimetype": "text/x-python",
   "name": "python",
   "nbconvert_exporter": "python",
   "pygments_lexer": "ipython3",
   "version": "3.12.9"
  }
 },
 "nbformat": 4,
 "nbformat_minor": 2
}
