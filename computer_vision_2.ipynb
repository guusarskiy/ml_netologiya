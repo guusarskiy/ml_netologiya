{
 "cells": [
  {
   "cell_type": "code",
   "execution_count": 1,
   "metadata": {},
   "outputs": [],
   "source": [
    "import torch\n",
    "import torch.nn as nn\n",
    "import torch.optim as optim\n",
    "import numpy as np\n",
    "import matplotlib.pyplot as plt\n",
    "from tqdm import tqdm\n",
    "import random\n",
    "\n",
    "import cv2\n",
    "\n",
    "from torch.utils.data import Dataset, DataLoader\n",
    "\n",
    "import torch.nn.functional as F"
   ]
  },
  {
   "cell_type": "code",
   "execution_count": 2,
   "metadata": {},
   "outputs": [
    {
     "name": "stdout",
     "output_type": "stream",
     "text": [
      "train_imgs shape: (800, 128, 128)\n",
      "train_masks shape: (800, 128, 128)\n"
     ]
    }
   ],
   "source": [
    "def generate_circle_dataset(n_samples=1000, height=128, width=128, radius_range=(10, 30)):\n",
    "    imgs = np.zeros((n_samples, height, width), dtype=np.uint8)\n",
    "    masks = np.zeros((n_samples, height, width), dtype=np.uint8)\n",
    "    \n",
    "    for i in range(n_samples):\n",
    "        r = random.randint(radius_range[0], radius_range[1])\n",
    "        cx = random.randint(r, width - r)\n",
    "        cy = random.randint(r, height - r)\n",
    "        \n",
    "        img = np.zeros((height, width), dtype=np.uint8)\n",
    "        mask = np.zeros((height, width), dtype=np.uint8)\n",
    "        \n",
    "        cv2.circle(img, (cx, cy), r, color=200, thickness=-1)\n",
    "        cv2.circle(mask, (cx, cy), r, color=1, thickness=-1)\n",
    "        \n",
    "        imgs[i] = img\n",
    "        masks[i] = mask\n",
    "    \n",
    "    return imgs, masks\n",
    "\n",
    "train_imgs, train_masks = generate_circle_dataset(n_samples=800, height=128, width=128, radius_range=(10,30))\n",
    "val_imgs, val_masks = generate_circle_dataset(n_samples=200, height=128, width=128, radius_range=(10,30))\n",
    "\n",
    "print(\"train_imgs shape:\", train_imgs.shape)\n",
    "print(\"train_masks shape:\", train_masks.shape)"
   ]
  },
  {
   "cell_type": "code",
   "execution_count": 3,
   "metadata": {},
   "outputs": [],
   "source": [
    "class CircleDataset(Dataset):\n",
    "    def __init__(self, images, masks, transform=None):\n",
    "        self.images = images\n",
    "        self.masks = masks\n",
    "        self.transform = transform\n",
    "        \n",
    "    def __len__(self):\n",
    "        return len(self.images)\n",
    "    \n",
    "    def __getitem__(self, idx):\n",
    "        img = self.images[idx]\n",
    "        mask = self.masks[idx]\n",
    "        img_tensor = torch.from_numpy(img).unsqueeze(0).float() / 255.0\n",
    "        mask_tensor = torch.from_numpy(mask).unsqueeze(0).float()  \n",
    "        \n",
    "        if self.transform:\n",
    "            pass\n",
    "        \n",
    "        return img_tensor, mask_tensor\n",
    "\n",
    "train_dataset = CircleDataset(train_imgs, train_masks)\n",
    "val_dataset   = CircleDataset(val_imgs, val_masks)\n",
    "\n",
    "train_loader = DataLoader(train_dataset, batch_size=8, shuffle=True)\n",
    "val_loader   = DataLoader(val_dataset, batch_size=8, shuffle=False)"
   ]
  },
  {
   "cell_type": "code",
   "execution_count": 4,
   "metadata": {},
   "outputs": [],
   "source": [
    "class DoubleConv(nn.Module):\n",
    "    def __init__(self, in_channels, out_channels):\n",
    "        super(DoubleConv, self).__init__()\n",
    "        self.conv = nn.Sequential(\n",
    "            nn.Conv2d(in_channels, out_channels, kernel_size=3, padding=1),\n",
    "            nn.ReLU(inplace=True),\n",
    "            nn.Conv2d(out_channels, out_channels, kernel_size=3, padding=1),\n",
    "            nn.ReLU(inplace=True)\n",
    "        )\n",
    "    def forward(self, x):\n",
    "        return self.conv(x)\n",
    "\n",
    "class UNet(nn.Module):\n",
    "    def __init__(self, in_channels=1, out_channels=1):\n",
    "        super(UNet, self).__init__()\n",
    "        \n",
    "        self.down1 = DoubleConv(in_channels, 64)\n",
    "        self.pool1 = nn.MaxPool2d(2)\n",
    "        self.down2 = DoubleConv(64, 128)\n",
    "        self.pool2 = nn.MaxPool2d(2)\n",
    "        \n",
    "        self.bottleneck = DoubleConv(128, 256)\n",
    "        \n",
    "        self.up2 = nn.ConvTranspose2d(256, 128, kernel_size=2, stride=2)\n",
    "        self.conv2 = DoubleConv(256, 128)\n",
    "        self.up1 = nn.ConvTranspose2d(128, 64, kernel_size=2, stride=2)\n",
    "        self.conv1 = DoubleConv(128, 64)\n",
    "        \n",
    "        self.out_conv = nn.Conv2d(64, out_channels, kernel_size=1)\n",
    "    \n",
    "    def forward(self, x):\n",
    "        x1 = self.down1(x)  \n",
    "        x2 = self.pool1(x1)\n",
    "        x3 = self.down2(x2) \n",
    "        x4 = self.pool2(x3) \n",
    "        \n",
    "        x5 = self.bottleneck(x4) \n",
    "        \n",
    "        x6 = self.up2(x5)         \n",
    "        x6 = torch.cat([x3, x6], dim=1)  \n",
    "        x7 = self.conv2(x6)       \n",
    "        \n",
    "        x8 = self.up1(x7)        \n",
    "        x8 = torch.cat([x1, x8], dim=1)  \n",
    "        x9 = self.conv1(x8)       \n",
    "        \n",
    "        out = self.out_conv(x9)  \n",
    "        return out\n",
    "\n",
    "model = UNet(in_channels=1, out_channels=1)"
   ]
  },
  {
   "cell_type": "code",
   "execution_count": 5,
   "metadata": {},
   "outputs": [
    {
     "name": "stderr",
     "output_type": "stream",
     "text": [
      "Epoch 1/5: 100%|██████████| 100/100 [00:02<00:00, 42.41it/s]\n"
     ]
    },
    {
     "name": "stdout",
     "output_type": "stream",
     "text": [
      "Epoch 1, Loss: 0.0412\n"
     ]
    },
    {
     "name": "stderr",
     "output_type": "stream",
     "text": [
      "Epoch 2/5: 100%|██████████| 100/100 [00:02<00:00, 47.49it/s]\n"
     ]
    },
    {
     "name": "stdout",
     "output_type": "stream",
     "text": [
      "Epoch 2, Loss: 0.0008\n"
     ]
    },
    {
     "name": "stderr",
     "output_type": "stream",
     "text": [
      "Epoch 3/5: 100%|██████████| 100/100 [00:02<00:00, 48.30it/s]\n"
     ]
    },
    {
     "name": "stdout",
     "output_type": "stream",
     "text": [
      "Epoch 3, Loss: 0.0004\n"
     ]
    },
    {
     "name": "stderr",
     "output_type": "stream",
     "text": [
      "Epoch 4/5: 100%|██████████| 100/100 [00:02<00:00, 48.61it/s]\n"
     ]
    },
    {
     "name": "stdout",
     "output_type": "stream",
     "text": [
      "Epoch 4, Loss: 0.0001\n"
     ]
    },
    {
     "name": "stderr",
     "output_type": "stream",
     "text": [
      "Epoch 5/5: 100%|██████████| 100/100 [00:02<00:00, 48.65it/s]"
     ]
    },
    {
     "name": "stdout",
     "output_type": "stream",
     "text": [
      "Epoch 5, Loss: 0.0000\n"
     ]
    },
    {
     "name": "stderr",
     "output_type": "stream",
     "text": [
      "\n"
     ]
    }
   ],
   "source": [
    "device = torch.device(\"cuda\" if torch.cuda.is_available() else \"cpu\")\n",
    "model = model.to(device)\n",
    "\n",
    "criterion = nn.BCEWithLogitsLoss()\n",
    "optimizer = optim.Adam(model.parameters(), lr=1e-3)\n",
    "\n",
    "num_epochs = 5\n",
    "\n",
    "for epoch in range(num_epochs):\n",
    "    model.train()\n",
    "    running_loss = 0.0\n",
    "    \n",
    "    for imgs, masks in tqdm(train_loader, desc=f\"Epoch {epoch+1}/{num_epochs}\"):\n",
    "        imgs = imgs.to(device)  \n",
    "        masks = masks.to(device) \n",
    "        \n",
    "        optimizer.zero_grad()\n",
    "        logits = model(imgs)     \n",
    "        loss = criterion(logits, masks)\n",
    "        loss.backward()\n",
    "        optimizer.step()\n",
    "        \n",
    "        running_loss += loss.item()\n",
    "    \n",
    "    avg_loss = running_loss / len(train_loader)\n",
    "    print(f\"Epoch {epoch+1}, Loss: {avg_loss:.4f}\")"
   ]
  },
  {
   "cell_type": "code",
   "execution_count": 6,
   "metadata": {},
   "outputs": [
    {
     "data": {
      "image/png": "[encoded data removed]",
      "text/plain": [
       "<Figure size 1200x600 with 12 Axes>"
      ]
     },
     "metadata": {},
     "output_type": "display_data"
    }
   ],
   "source": [
    "model.eval()\n",
    "with torch.no_grad():\n",
    "    imgs, masks = next(iter(val_loader))\n",
    "    imgs = imgs.to(device)\n",
    "    masks = masks.to(device)\n",
    "    logits = model(imgs)\n",
    "    preds = torch.sigmoid(logits)\n",
    "    preds_bin = (preds > 0.5).float()\n",
    "\n",
    "plt.figure(figsize=(12, 6))\n",
    "for i in range(4):  \n",
    "    plt.subplot(3, 4, i+1)\n",
    "    plt.imshow(imgs[i, 0].cpu().numpy(), cmap='gray')\n",
    "    plt.title(\"Image\")\n",
    "    plt.axis('off')\n",
    "    \n",
    "    plt.subplot(3, 4, i+5)\n",
    "    plt.imshow(preds_bin[i, 0].cpu().numpy(), cmap='gray')\n",
    "    plt.title(\"Predicted Mask\")\n",
    "    plt.axis('off')\n",
    "    \n",
    "    plt.subplot(3, 4, i+9)\n",
    "    plt.imshow(masks[i, 0].cpu().numpy(), cmap='gray')\n",
    "    plt.title(\"True Mask\")\n",
    "    plt.axis('off')\n",
    "\n",
    "plt.tight_layout()\n",
    "plt.show()"
   ]
  }
 ],
 "metadata": {
  "kernelspec": {
   "display_name": "netol_comp_vis_13",
   "language": "python",
   "name": "python3"
  },
  "language_info": {
   "codemirror_mode": {
    "name": "ipython",
    "version": 3
   },
   "file_extension": ".py",
   "mimetype": "text/x-python",
   "name": "python",
   "nbconvert_exporter": "python",
   "pygments_lexer": "ipython3",
   "version": "3.12.9"
  }
 },
 "nbformat": 4,
 "nbformat_minor": 2
}
